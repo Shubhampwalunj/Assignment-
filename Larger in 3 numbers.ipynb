{
 "cells": [
  {
   "cell_type": "markdown",
   "id": "a7c70472",
   "metadata": {},
   "source": [
    "# To find greatest of three numbers\n"
   ]
  },
  {
   "cell_type": "code",
   "execution_count": null,
   "id": "72695313",
   "metadata": {},
   "outputs": [],
   "source": [
    "a=int(input('enter data; '))"
   ]
  },
  {
   "cell_type": "code",
   "execution_count": null,
   "id": "cb5e1351",
   "metadata": {},
   "outputs": [],
   "source": [
    "b=int(input('enter data; '))\n",
    "c=int(input('enter data; '))"
   ]
  },
  {
   "cell_type": "code",
   "execution_count": null,
   "id": "f49ef858",
   "metadata": {},
   "outputs": [],
   "source": [
    "print (a,b,c)"
   ]
  },
  {
   "cell_type": "code",
   "execution_count": null,
   "id": "72b92639",
   "metadata": {},
   "outputs": [],
   "source": [
    "if (a>b) and (a>c) :\n",
    "    print ('{a} is the greatest integer in the given 3 numbers')\n",
    "elif (b>a) and (b>c) :\n",
    "    print ('{b} is the greatest integer in the given 3 numbers')\n",
    "else :\n",
    "    print ('{c} is the greatest integer in the given 3 numbers')"
   ]
  },
  {
   "cell_type": "code",
   "execution_count": null,
   "id": "f613e620",
   "metadata": {},
   "outputs": [],
   "source": []
  },
  {
   "cell_type": "code",
   "execution_count": null,
   "id": "723d131d",
   "metadata": {},
   "outputs": [],
   "source": []
  },
  {
   "cell_type": "code",
   "execution_count": null,
   "id": "503fd694",
   "metadata": {},
   "outputs": [],
   "source": []
  }
 ],
 "metadata": {
  "kernelspec": {
   "display_name": "Python 3",
   "language": "python",
   "name": "python3"
  },
  "language_info": {
   "codemirror_mode": {
    "name": "ipython",
    "version": 3
   },
   "file_extension": ".py",
   "mimetype": "text/x-python",
   "name": "python",
   "nbconvert_exporter": "python",
   "pygments_lexer": "ipython3",
   "version": "3.8.8"
  }
 },
 "nbformat": 4,
 "nbformat_minor": 5
}
