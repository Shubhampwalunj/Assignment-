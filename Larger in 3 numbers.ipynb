{
 "cells": [
  {
   "cell_type": "markdown",
   "id": "5541abe5",
   "metadata": {},
   "source": [
    "# To find greatest of three numbers\n"
   ]
  },
  {
   "cell_type": "code",
   "execution_count": null,
   "id": "fdc615c6",
   "metadata": {},
   "outputs": [],
   "source": [
    "a=int(input('enter data: '))"
   ]
  },
  {
   "cell_type": "code",
   "execution_count": null,
   "id": "0b075ff9",
   "metadata": {},
   "outputs": [],
   "source": [
    "b=int(input('enter data: '))\n",
    "c=int(input('enter data: '))"
   ]
  },
  {
   "cell_type": "code",
   "execution_count": null,
   "id": "72375382",
   "metadata": {},
   "outputs": [],
   "source": [
    "print (a,b,c)"
   ]
  },
  {
   "cell_type": "code",
   "execution_count": null,
   "id": "b92fa247",
   "metadata": {},
   "outputs": [],
   "source": [
    "if (a>b) and (a>c) :\n",
    "    print ('{a} is the greatest integer in the given 3 numbers')\n",
    "elif (b>a) and (b>c) :\n",
    "    print ('{b} is the greatest integer in the given 3 numbers')\n",
    "else :\n",
    "    print ('{c} is the greatest integer in the given 3 numbers')"
   ]
  },
  {
   "cell_type": "code",
   "execution_count": null,
   "id": "b587b94d",
   "metadata": {},
   "outputs": [],
   "source": []
  },
  {
   "cell_type": "code",
   "execution_count": null,
   "id": "db70b3da",
   "metadata": {},
   "outputs": [],
   "source": []
  },
  {
   "cell_type": "code",
   "execution_count": null,
   "id": "87a603b9",
   "metadata": {},
   "outputs": [],
   "source": []
  }
 ],
 "metadata": {
  "kernelspec": {
   "display_name": "Python 3",
   "language": "python",
   "name": "python3"
  },
  "language_info": {
   "codemirror_mode": {
    "name": "ipython",
    "version": 3
   },
   "file_extension": ".py",
   "mimetype": "text/x-python",
   "name": "python",
   "nbconvert_exporter": "python",
   "pygments_lexer": "ipython3",
   "version": "3.8.8"
  }
 },
 "nbformat": 4,
 "nbformat_minor": 5
}
